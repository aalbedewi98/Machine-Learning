{
  "nbformat": 4,
  "nbformat_minor": 0,
  "metadata": {
    "colab": {
      "provenance": []
    },
    "kernelspec": {
      "name": "python3",
      "display_name": "Python 3"
    },
    "language_info": {
      "name": "python"
    }
  },
  "cells": [
    {
      "cell_type": "code",
      "source": [
        "# ==============================\n",
        "# Jaccard Coefficient Calculation\n",
        "# Units 5 e-Portfolio Activity\n",
        "# ==============================\n",
        "\n",
        "from sklearn.metrics import jaccard_score\n",
        "import pandas as pd\n",
        "\n",
        "# Step 1: Create the original data table\n",
        "# Y & P = 1; N & A = 0 for asymmetric variables (tests and symptoms)\n",
        "data = {\n",
        "    \"Name\": [\"Jack\", \"Mary\", \"Jim\"],\n",
        "    \"Gender\": [\"M\", \"F\"],  # Symmetric, not converted\n",
        "    \"Fever\": [1, 1, 1],\n",
        "    \"Cough\": [0, 0, 1],\n",
        "    \"Test-1\": [1, 1, 0],\n",
        "    \"Test-2\": [0, 0, 0],\n",
        "    \"Test-3\": [0, 1, 0],\n",
        "    \"Test-4\": [0, 0, 0]\n",
        "}\n",
        "\n",
        "# Step 2: Create a DataFrame for easier visualization\n",
        "df = pd.DataFrame({\n",
        "    \"Name\": [\"Jack\", \"Mary\", \"Jim\"],\n",
        "    \"Fever\": [1, 1, 1],\n",
        "    \"Cough\": [0, 0, 1],\n",
        "    \"Test-1\": [1, 1, 0],\n",
        "    \"Test-2\": [0, 0, 0],\n",
        "    \"Test-3\": [0, 1, 0],\n",
        "    \"Test-4\": [0, 0, 0]\n",
        "})\n",
        "\n",
        "print(\"Binary Data Table (Y/P=1, N/A=0):\")\n",
        "print(df.to_string(index=False))\n",
        "\n",
        "# Step 3: Prepare data vectors for Jaccard calculation\n",
        "jack = [1,0,1,0,0,0]\n",
        "mary = [1,0,1,0,1,0]\n",
        "jim  = [1,1,0,0,0,0]\n",
        "\n",
        "# Step 4: Calculate Jaccard coefficient for each pair\n",
        "jac_jack_mary = jaccard_score(jack, mary)\n",
        "jac_jack_jim  = jaccard_score(jack, jim)\n",
        "jac_jim_mary  = jaccard_score(jim, mary)\n",
        "\n",
        "# Step 5: Print the results\n",
        "print(\"\\nJaccard Coefficient Results:\")\n",
        "print(f\"Jack & Mary: {jac_jack_mary:.2f}\")\n",
        "print(f\"Jack & Jim:  {jac_jack_jim:.2f}\")\n",
        "print(f\"Jim & Mary:  {jac_jim_mary:.2f}\")\n",
        "\n",
        "# Explanation of output:\n",
        "# The Jaccard coefficient measures similarity between two binary vectors.\n",
        "# Formula: J = (number of shared 1's) / (number of positions where at least one is 1)\n",
        "# Higher values indicate higher similarity.\n"
      ],
      "metadata": {
        "colab": {
          "base_uri": "https://localhost:8080/"
        },
        "id": "Dbj6GnCWN-gF",
        "outputId": "8dbf63ab-fa3d-4f33-c7c9-5bcfcec7b00a"
      },
      "execution_count": 1,
      "outputs": [
        {
          "output_type": "stream",
          "name": "stdout",
          "text": [
            "Binary Data Table (Y/P=1, N/A=0):\n",
            "Name  Fever  Cough  Test-1  Test-2  Test-3  Test-4\n",
            "Jack      1      0       1       0       0       0\n",
            "Mary      1      0       1       0       1       0\n",
            " Jim      1      1       0       0       0       0\n",
            "\n",
            "Jaccard Coefficient Results:\n",
            "Jack & Mary: 0.67\n",
            "Jack & Jim:  0.33\n",
            "Jim & Mary:  0.25\n"
          ]
        }
      ]
    }
  ]
}
