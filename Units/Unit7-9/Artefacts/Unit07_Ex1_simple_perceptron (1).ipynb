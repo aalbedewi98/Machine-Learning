{
  "cells": [
    {
      "cell_type": "code",
      "source": [
        "# =========================================\n",
        "# Simple Perceptron Example with Step Function\n",
        "# =========================================\n",
        "\n",
        "# Import necessary library\n",
        "import numpy as np\n",
        "\n",
        "# -------------------------------\n",
        "# Define Inputs\n",
        "# -------------------------------\n",
        "# Inputs represent features of a sample. Here we choose two arbitrary values.\n",
        "inputs = np.array([45, 25])\n",
        "print(\"Inputs:\", inputs)  # Output: [45 25]\n",
        "\n",
        "# -------------------------------\n",
        "# Define Weights\n",
        "# -------------------------------\n",
        "# Weights represent the importance of each input.\n",
        "weights = np.array([0.7, 0.1])\n",
        "print(\"Weights:\", weights)  # Output: [0.7 0.1]\n",
        "\n",
        "# -------------------------------\n",
        "# Define the Sum Function\n",
        "# -------------------------------\n",
        "# The dot product of inputs and weights calculates the weighted sum.\n",
        "def sum_func(inputs, weights):\n",
        "    return inputs.dot(weights)\n",
        "\n",
        "# Calculate the sum\n",
        "s_prob1 = sum_func(inputs, weights)\n",
        "print(\"Weighted Sum (inputs * weights):\", s_prob1)\n",
        "# Output explanation: 45*0.7 + 25*0.1 = 31.5 + 2.5 = 34.0\n",
        "# The weighted sum is high because inputs and weights are positive.\n",
        "\n",
        "# -------------------------------\n",
        "# Define Step Function\n",
        "# -------------------------------\n",
        "# The step function acts as an activation function:\n",
        "# - Output 1 if sum >= 1\n",
        "# - Output 0 if sum < 1\n",
        "def step_function(sum_value):\n",
        "    if sum_value >= 1:\n",
        "        print(\"The Sum Function is greater than or equal to 1 --> Output: 1\")\n",
        "        return 1\n",
        "    else:\n",
        "        print(\"The Sum Function is NOT greater than 1 --> Output: 0\")\n",
        "        return 0\n",
        "\n",
        "# Apply step function to s_prob1\n",
        "output1 = step_function(s_prob1)\n",
        "# Output explanation: sum = 34.0 >= 1, so perceptron \"fires\" (output = 1)\n",
        "\n",
        "# -------------------------------\n",
        "# Change Weights Example\n",
        "# -------------------------------\n",
        "# Example 2: Change weights to [-0.7, 0.1]\n",
        "weights2 = np.array([-0.7, 0.1])\n",
        "print(\"\\nNew Weights:\", weights2)  # Output: [-0.7  0.1]\n",
        "\n",
        "# Recalculate sum\n",
        "s_prob2 = sum_func(inputs, weights2)\n",
        "print(\"Weighted Sum with new weights:\", s_prob2)\n",
        "# Output explanation: 45*(-0.7) + 25*0.1 = -31.5 + 2.5 = -29.0\n",
        "# The negative weight dominates, lowering the sum below 1.\n",
        "\n",
        "# Apply step function to s_prob2\n",
        "output2 = step_function(s_prob2)\n",
        "# Output explanation: sum = -29.0 < 1, so perceptron does NOT fire (output = 0)\n",
        "\n",
        "# -------------------------------\n",
        "# Change Inputs Example\n",
        "# -------------------------------\n",
        "# Example 3: Change inputs to [10, 5] and weights to [0.5, 0.5]\n",
        "inputs3 = np.array([10, 5])\n",
        "weights3 = np.array([0.5, 0.5])\n",
        "print(\"\\nNew Inputs:\", inputs3)  # Output: [10  5]\n",
        "print(\"New Weights:\", weights3)  # Output: [0.5 0.5]\n",
        "\n",
        "# Calculate sum\n",
        "s_prob3 = sum_func(inputs3, weights3)\n",
        "print(\"Weighted Sum with new inputs and weights:\", s_prob3)\n",
        "# Output explanation: 10*0.5 + 5*0.5 = 5 + 2.5 = 7.5\n",
        "# The sum is positive and above 1.\n",
        "\n",
        "# Apply step function\n",
        "output3 = step_function(s_prob3)\n",
        "# Output explanation: sum = 7.5 >= 1, so perceptron fires (output = 1)\n"
      ],
      "metadata": {
        "colab": {
          "base_uri": "https://localhost:8080/"
        },
        "id": "3EndJlv8leQO",
        "outputId": "cd8747cc-4ae9-477e-a991-557742eb1917"
      },
      "execution_count": 4,
      "outputs": [
        {
          "output_type": "stream",
          "name": "stdout",
          "text": [
            "Inputs: [45 25]\n",
            "Weights: [0.7 0.1]\n",
            "Weighted Sum (inputs * weights): 34.0\n",
            "The Sum Function is greater than or equal to 1 --> Output: 1\n",
            "\n",
            "New Weights: [-0.7  0.1]\n",
            "Weighted Sum with new weights: -28.999999999999996\n",
            "The Sum Function is NOT greater than 1 --> Output: 0\n",
            "\n",
            "New Inputs: [10  5]\n",
            "New Weights: [0.5 0.5]\n",
            "Weighted Sum with new inputs and weights: 7.5\n",
            "The Sum Function is greater than or equal to 1 --> Output: 1\n"
          ]
        }
      ]
    }
  ],
  "metadata": {
    "kernelspec": {
      "display_name": "Python 3",
      "language": "python",
      "name": "python3"
    },
    "language_info": {
      "codemirror_mode": {
        "name": "ipython",
        "version": 3
      },
      "file_extension": ".py",
      "mimetype": "text/x-python",
      "name": "python",
      "nbconvert_exporter": "python",
      "pygments_lexer": "ipython3",
      "version": "3.7.6"
    },
    "colab": {
      "provenance": []
    }
  },
  "nbformat": 4,
  "nbformat_minor": 0
}
